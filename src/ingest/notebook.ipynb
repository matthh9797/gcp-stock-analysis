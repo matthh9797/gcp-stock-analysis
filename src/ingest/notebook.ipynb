{
 "cells": [
  {
   "cell_type": "markdown",
   "metadata": {},
   "source": [
    "# Google stock ticker ingestion"
   ]
  },
  {
   "cell_type": "code",
   "execution_count": 1,
   "metadata": {},
   "outputs": [],
   "source": [
    "import os\n",
    "import logging\n",
    "import yfinance as yf\n",
    "import datetime\n",
    "import tempfile # Used to create temporary directories/files\n",
    "import shutil\n",
    "\n",
    "from google.cloud import storage\n",
    "from google.cloud.storage import Blob\n",
    "from google.cloud import bigquery\n",
    "from dailyupdate.ingest_goog import ingest"
   ]
  },
  {
   "cell_type": "code",
   "execution_count": 2,
   "metadata": {},
   "outputs": [
    {
     "data": {
      "text/plain": [
       "(TableReference(DatasetReference('data-science-on-gcp-323609', 'gcp_stock_analysis'), 'stock_price'),\n",
       " 4449)"
      ]
     },
     "execution_count": 2,
     "metadata": {},
     "output_type": "execute_result"
    }
   ],
   "source": [
    "date = '2022-04-20'\n",
    "bucket = 'gcp-stock-analysis'\n",
    "ingest(date, bucket, full_refresh=True)"
   ]
  },
  {
   "cell_type": "code",
   "execution_count": null,
   "metadata": {},
   "outputs": [],
   "source": [
    "# All info you can retrieve with yahoo finance\n",
    "# goog.info.keys()"
   ]
  },
  {
   "cell_type": "code",
   "execution_count": null,
   "metadata": {},
   "outputs": [],
   "source": [
    "goog = yf.Ticker(\"GOOG\")\n",
    "history = goog.history(period=\"max\")"
   ]
  },
  {
   "cell_type": "code",
   "execution_count": null,
   "metadata": {},
   "outputs": [],
   "source": [
    "history.loc[:'2004-08-23']"
   ]
  }
 ],
 "metadata": {
  "interpreter": {
   "hash": "6347fbae74121e89891f92cca5bcad080d79524d666f875a4a2fd82f115fb2e0"
  },
  "kernelspec": {
   "display_name": "Python 3.9.11 ('gcp-stock-analysis')",
   "language": "python",
   "name": "python3"
  },
  "language_info": {
   "codemirror_mode": {
    "name": "ipython",
    "version": 3
   },
   "file_extension": ".py",
   "mimetype": "text/x-python",
   "name": "python",
   "nbconvert_exporter": "python",
   "pygments_lexer": "ipython3",
   "version": "3.9.11"
  },
  "orig_nbformat": 4
 },
 "nbformat": 4,
 "nbformat_minor": 2
}
