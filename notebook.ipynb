{
 "cells": [
  {
   "cell_type": "markdown",
   "metadata": {},
   "source": [
    "# Google stock ticker ingestion"
   ]
  },
  {
   "cell_type": "code",
   "execution_count": 22,
   "metadata": {},
   "outputs": [],
   "source": [
    "import os\n",
    "import logging\n",
    "import yfinance as yf\n",
    "\n",
    "from google.cloud import storage\n",
    "from google.cloud.storage import Blob\n",
    "from google.cloud import bigquery\n",
    "from cloud_functions.ingest_goog import download, upload"
   ]
  },
  {
   "cell_type": "code",
   "execution_count": 42,
   "metadata": {},
   "outputs": [],
   "source": [
    "def bqload(gcsfile, date):\n",
    "    \"\"\"\n",
    "    Loads the csv file in GCS to BigQuery, replacing data in the\n",
    "    current partition\n",
    "    \"\"\"\n",
    "    client = bigquery.Client()\n",
    "    table_ref = client.dataset('gcp_stock_analysis')\n",
    "\n",
    "def ingest(date, bucket):\n",
    "    \"\"\"Ingest data into bucket\"\"\"\n",
    "\n",
    "def next_date():\n",
    "    \"\"\"Get next day from bucket\"\"\"\n",
    "    pass "
   ]
  },
  {
   "cell_type": "code",
   "execution_count": 47,
   "metadata": {},
   "outputs": [],
   "source": [
    "date = '2015-01-12'\n",
    "bucket = 'gcp-stock-analysis'\n",
    "file = download(date, 'repository')\n",
    "if file is not None:\n",
    "    gcsloc = 'stocks/raw/goog/{}.csv'.format(date)\n",
    "    upload(file, bucket, gcsloc)"
   ]
  },
  {
   "cell_type": "code",
   "execution_count": null,
   "metadata": {},
   "outputs": [],
   "source": [
    "# All info you can retrieve with yahoo finance\n",
    "# goog.info.keys()"
   ]
  },
  {
   "cell_type": "code",
   "execution_count": null,
   "metadata": {},
   "outputs": [],
   "source": []
  }
 ],
 "metadata": {
  "interpreter": {
   "hash": "6347fbae74121e89891f92cca5bcad080d79524d666f875a4a2fd82f115fb2e0"
  },
  "kernelspec": {
   "display_name": "Python 3.9.11 ('gcp-stock-analysis')",
   "language": "python",
   "name": "python3"
  },
  "language_info": {
   "codemirror_mode": {
    "name": "ipython",
    "version": 3
   },
   "file_extension": ".py",
   "mimetype": "text/x-python",
   "name": "python",
   "nbconvert_exporter": "python",
   "pygments_lexer": "ipython3",
   "version": "3.9.11"
  },
  "orig_nbformat": 4
 },
 "nbformat": 4,
 "nbformat_minor": 2
}
